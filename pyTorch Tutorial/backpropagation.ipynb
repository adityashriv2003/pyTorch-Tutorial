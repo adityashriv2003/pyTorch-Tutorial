{
 "cells": [
  {
   "cell_type": "code",
   "execution_count": 1,
   "id": "fd24fa8d",
   "metadata": {},
   "outputs": [],
   "source": [
    "# chain rule: - dz/dy = dz/dx * dx/dy\n",
    "# to calculate the final loss we need the local gradients"
   ]
  },
  {
   "cell_type": "code",
   "execution_count": 2,
   "id": "064e5f05",
   "metadata": {},
   "outputs": [],
   "source": [
    "# 3 steps :-\n",
    "# forward pass : compute loss\n",
    "# compute local gradients \n",
    "# backward pass : compute dLoss/dWeights using chain rule"
   ]
  },
  {
   "cell_type": "code",
   "execution_count": 1,
   "id": "3b6f850d",
   "metadata": {},
   "outputs": [],
   "source": [
    "import torch"
   ]
  },
  {
   "cell_type": "code",
   "execution_count": 2,
   "id": "bea22a11",
   "metadata": {},
   "outputs": [
    {
     "name": "stdout",
     "output_type": "stream",
     "text": [
      "tensor(1.)\n",
      "tensor(1.)\n",
      "tensor([0.8574], requires_grad=True)\n",
      "tensor([0.8574], grad_fn=<MulBackward0>)\n",
      "tensor([0.0203], grad_fn=<PowBackward0>)\n"
     ]
    }
   ],
   "source": [
    "#FORWARD PASS\n",
    "\n",
    "x = torch.tensor(1.0)\n",
    "print(x)\n",
    "# actual output\n",
    "y = torch.tensor(1.0)\n",
    "print(y)\n",
    "# random weight\n",
    "weight = torch.rand(1 , requires_grad = True)\n",
    "print(weight)\n",
    "# calculating the predicted output\n",
    "y_hat = x*weight\n",
    "print(y_hat)\n",
    "#calculating the loss\n",
    "loss = (y_hat - y)**2\n",
    "print(loss)"
   ]
  },
  {
   "cell_type": "code",
   "execution_count": 5,
   "id": "7124b31c",
   "metadata": {},
   "outputs": [
    {
     "name": "stdout",
     "output_type": "stream",
     "text": [
      "tensor([-0.8866])\n"
     ]
    }
   ],
   "source": [
    "# BACKWARD PASS\n",
    "loss.backward()\n",
    "\n",
    "print(weight.grad)\n",
    "\n",
    "# update the weights\n",
    "# run the forward and backward pass multiple times"
   ]
  },
  {
   "cell_type": "code",
   "execution_count": null,
   "id": "cc5a583c",
   "metadata": {},
   "outputs": [],
   "source": []
  }
 ],
 "metadata": {
  "kernelspec": {
   "display_name": "Python 3 (ipykernel)",
   "language": "python",
   "name": "python3"
  },
  "language_info": {
   "codemirror_mode": {
    "name": "ipython",
    "version": 3
   },
   "file_extension": ".py",
   "mimetype": "text/x-python",
   "name": "python",
   "nbconvert_exporter": "python",
   "pygments_lexer": "ipython3",
   "version": "3.9.7"
  }
 },
 "nbformat": 4,
 "nbformat_minor": 5
}
