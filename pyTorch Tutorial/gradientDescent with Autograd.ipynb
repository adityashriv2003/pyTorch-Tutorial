{
 "cells": [
  {
   "cell_type": "code",
   "execution_count": 1,
   "id": "490bf81e",
   "metadata": {},
   "outputs": [],
   "source": [
    "import numpy as np"
   ]
  },
  {
   "cell_type": "code",
   "execution_count": 49,
   "id": "0acfa83e",
   "metadata": {},
   "outputs": [],
   "source": [
    "# linear regression\n",
    "\n",
    "# input:-\n",
    "X = np.array([1. ,2. , 3.] , dtype = np.float32)\n",
    "# output:-\n",
    "Y = np.array([2. , 4. , 6.] , dtype = np.float32)\n",
    "# random weight\n",
    "weight = 0.0"
   ]
  },
  {
   "cell_type": "code",
   "execution_count": 50,
   "id": "d5fec919",
   "metadata": {},
   "outputs": [],
   "source": [
    "def forwardPass(weight):\n",
    "    model_prediction = weight*X\n",
    "    return model_prediction\n",
    "    \n",
    "def gradDescent(weight):\n",
    "    loss_change = -2*(Y-forwardPass(weight))*(X.sum())\n",
    "    weight -= 0.01*loss_change\n",
    "    return weight\n",
    "    \n",
    "def loss(weight):\n",
    "    return (Y-forwardPass(weight))**2\n",
    "    "
   ]
  },
  {
   "cell_type": "code",
   "execution_count": 51,
   "id": "fac98a0c",
   "metadata": {},
   "outputs": [
    {
     "name": "stdout",
     "output_type": "stream",
     "text": [
      "weights [0.24       0.48       0.71999997]\n",
      "loss [ 3.0976    9.2416   14.745601]\n",
      "weights [0.45119998 0.8448     1.1808    ]\n",
      "loss [2.3987813 5.3379483 6.0397983]\n",
      "weights [0.637056 1.122048 1.475712]\n",
      "loss [1.8576164 3.0831988 2.4739013]\n",
      "weights [0.80060923 1.3327565  1.6644557 ]\n",
      "loss [1.4385382 1.7808554 1.0133096]\n",
      "weights [0.9445361 1.4928949 1.7852516]\n",
      "loss [1.114004   1.0286224  0.41505182]\n",
      "weights [1.0711918 1.6146001 1.862561 ]\n",
      "loss [0.86268467 0.5941324  0.17000553]\n",
      "weights [1.1826488 1.7070961 1.912039 ]\n",
      "loss [0.66806304 0.3431708  0.06963404]\n",
      "weights [1.280731 1.777393 1.943705]\n",
      "loss [0.51734793 0.19821553 0.02852222]\n",
      "weights [1.3670433 1.8308187 1.9639711]\n",
      "loss [0.40063423 0.11448931 0.01168271]\n",
      "weights [1.442998  1.8714222 1.9769416]\n",
      "loss [0.31025118 0.06612903 0.00478521]\n",
      "weights [1.5098383 1.9022808 1.9852426]\n",
      "loss [0.24025846 0.03819616 0.00196005]\n",
      "weights [1.5686578 1.9257334 1.9905553]\n",
      "loss [0.18605614 0.02206208 0.00080282]\n",
      "weights [1.6204188 1.9435574 1.9939554]\n",
      "loss [0.14408189 0.01274308 0.00032885]\n",
      "weights [1.6659685 1.9571036 1.9961314]\n",
      "loss [0.11157702 0.0073604  0.00013469]\n",
      "weights [1.7060523 1.9673988 1.9975241]\n",
      "loss [8.6405247e-02 4.2513628e-03 5.5170614e-05]\n",
      "weights [1.741326  1.9752231 1.9984155]\n",
      "loss [6.6912249e-02 2.4555861e-03 2.2596614e-05]\n",
      "weights [1.7723669 1.9811696 1.9989859]\n",
      "loss [5.1816836e-02 1.4183386e-03 9.2551090e-06]\n",
      "weights [1.7996829 1.9856889 1.9993509]\n",
      "loss [4.0126957e-02 8.1922748e-04 3.7923783e-06]\n",
      "weights [1.8237209 1.9891236 1.9995846]\n",
      "loss [3.1074310e-02 4.7318579e-04 1.5536434e-06]\n",
      "weights [1.8448744 1.9917339 1.9997342]\n",
      "loss [2.4063958e-02 2.7331305e-04 6.3564221e-07]\n"
     ]
    }
   ],
   "source": [
    "for i in range(20):\n",
    "    new_weights = gradDescent(weight)\n",
    "    print(\"weights\" , new_weights)\n",
    "    print(\"loss\" , loss(new_weights))\n",
    "    weight = new_weights"
   ]
  }
 ],
 "metadata": {
  "kernelspec": {
   "display_name": "Python 3 (ipykernel)",
   "language": "python",
   "name": "python3"
  },
  "language_info": {
   "codemirror_mode": {
    "name": "ipython",
    "version": 3
   },
   "file_extension": ".py",
   "mimetype": "text/x-python",
   "name": "python",
   "nbconvert_exporter": "python",
   "pygments_lexer": "ipython3",
   "version": "3.9.7"
  }
 },
 "nbformat": 4,
 "nbformat_minor": 5
}
